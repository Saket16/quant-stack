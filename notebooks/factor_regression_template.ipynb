# Factor Regression Template for Investment Memo
# pip install yfinance pandas statsmodels matplotlib

import yfinance as yf
import pandas as pd
import statsmodels.api as sm
import matplotlib.pyplot as plt

# -----------------------------
# STEP 1: Download stock data
# -----------------------------
ticker = "COST"   # Replace with company ticker
stock = yf.download(ticker, start="2018-01-01", end="2024-12-31")
stock["Return"] = stock["Adj Close"].pct_change()
stock = stock.dropna()

# -----------------------------
# STEP 2: Load Fama-French Factors
# -----------------------------
# Download from Kenneth French Data Library:
# https://mba.tuck.dartmouth.edu/pages/faculty/ken.french/data_library.html
# Save file as "F-F_Research_Data_Factors_daily.csv"
factors = pd.read_csv("F-F_Research_Data_Factors_daily.csv", skiprows=4)
factors = factors.rename(columns={"Mkt-RF":"MKT_RF"})
# Convert Date if available, align index with stock
# factors["Date"] = pd.to_datetime(factors["Date"], format="%Y%m%d")
# factors = factors.set_index("Date")

# -----------------------------
# STEP 3: Merge + Excess Return
# -----------------------------
# merged = stock.join(factors, how="inner")
# merged["Excess Return"] = merged["Return"] - merged["RF"]/100

# -----------------------------
# STEP 4: Regression
# -----------------------------
# X = merged[["MKT_RF","SMB","HML"]] / 100
# X = sm.add_constant(X)
# y = merged["Excess Return"]

# model = sm.OLS(y, X).fit()
# print(model.summary())

# -----------------------------
# STEP 5: Plot Cumulative Returns
# -----------------------------
(stock["Return"]+1).cumprod().plot(title=f"{ticker} Cumulative Return", figsize=(10,5))
plt.show()
